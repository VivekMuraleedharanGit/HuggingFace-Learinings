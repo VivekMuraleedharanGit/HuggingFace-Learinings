{
  "nbformat": 4,
  "nbformat_minor": 0,
  "metadata": {
    "colab": {
      "name": "Pipeline function.ipynb",
      "provenance": [],
      "authorship_tag": "ABX9TyNl4KDum72ggq2xONp/6U4B",
      "include_colab_link": true
    },
    "kernelspec": {
      "name": "python3",
      "display_name": "Python 3"
    },
    "language_info": {
      "name": "python"
    }
  },
  "cells": [
    {
      "cell_type": "markdown",
      "metadata": {
        "id": "view-in-github",
        "colab_type": "text"
      },
      "source": [
        "<a href=\"https://colab.research.google.com/github/VivekMuraleedharanGit/HuggingFace-Learnings/blob/main/Pipeline_function.ipynb\" target=\"_parent\"><img src=\"https://colab.research.google.com/assets/colab-badge.svg\" alt=\"Open In Colab\"/></a>"
      ]
    },
    {
      "cell_type": "markdown",
      "metadata": {
        "id": "JwZzdasBI2ZB"
      },
      "source": [
        "# Huggingface Transfomers tutorial notebooks\n",
        "\n",
        "In this notebook I'm adding my learnings from Hugging face tutorials related to NLP and transformers\n",
        "* 1. **Pipeline function**"
      ]
    },
    {
      "cell_type": "markdown",
      "metadata": {
        "id": "1sCPuAPhJnN8"
      },
      "source": [
        "Pipeline used to connect with the model and dataset with its necessary preprocessing and post processing steps, which makes them easier to apply directly with txt input and output "
      ]
    },
    {
      "cell_type": "code",
      "metadata": {
        "id": "n1Ta6GfpInEO"
      },
      "source": [
        "# Installation \n",
        "\n",
        "!pip install datasets transformers[sentencepiece]"
      ],
      "execution_count": null,
      "outputs": []
    },
    {
      "cell_type": "code",
      "metadata": {
        "id": "7IXpBKVZKG2l"
      },
      "source": [
        "# pipeline function import \n",
        "\n",
        "from transformers import pipeline"
      ],
      "execution_count": 2,
      "outputs": []
    },
    {
      "cell_type": "markdown",
      "metadata": {
        "id": "-tBITdgIKk8u"
      },
      "source": [
        "* **Sentiment Analysis**\n",
        "\n",
        "Sentiment analyser used to analyse the sentiment of a sentence and return the sentiment and polarity of the sentiment "
      ]
    },
    {
      "cell_type": "code",
      "metadata": {
        "colab": {
          "base_uri": "https://localhost:8080/"
        },
        "id": "TjHoCX7FKkx4",
        "outputId": "b841896f-65be-430e-dd5a-aecdafec5441"
      },
      "source": [
        "classifier = pipeline(\"sentiment-analysis\")\n",
        "classifier(\"I'm very much happy about that i gotta learn this course.\")"
      ],
      "execution_count": 4,
      "outputs": [
        {
          "output_type": "execute_result",
          "data": {
            "text/plain": [
              "[{'label': 'POSITIVE', 'score': 0.9998486638069153}]"
            ]
          },
          "metadata": {
            "tags": []
          },
          "execution_count": 4
        }
      ]
    },
    {
      "cell_type": "code",
      "metadata": {
        "colab": {
          "base_uri": "https://localhost:8080/"
        },
        "id": "BOwCt4f-Kdwb",
        "outputId": "55fa9ee9-efdd-41bd-e441-50857bbee9fb"
      },
      "source": [
        "classifier(\"I'm not so excited about it\")"
      ],
      "execution_count": 5,
      "outputs": [
        {
          "output_type": "execute_result",
          "data": {
            "text/plain": [
              "[{'label': 'NEGATIVE', 'score': 0.8566796779632568}]"
            ]
          },
          "metadata": {
            "tags": []
          },
          "execution_count": 5
        }
      ]
    },
    {
      "cell_type": "code",
      "metadata": {
        "colab": {
          "base_uri": "https://localhost:8080/"
        },
        "id": "9vGugi5kLjRF",
        "outputId": "701f4c02-68d9-4b40-8382-b445c7357b55"
      },
      "source": [
        "classifier(\"I'm okay with the course contents it's upto the mark\")"
      ],
      "execution_count": 6,
      "outputs": [
        {
          "output_type": "execute_result",
          "data": {
            "text/plain": [
              "[{'label': 'POSITIVE', 'score': 0.9997645616531372}]"
            ]
          },
          "metadata": {
            "tags": []
          },
          "execution_count": 6
        }
      ]
    },
    {
      "cell_type": "code",
      "metadata": {
        "colab": {
          "base_uri": "https://localhost:8080/"
        },
        "id": "jaHdALUXLu-Y",
        "outputId": "719ae47a-a5fd-4aea-b9e4-c21938a1b04c"
      },
      "source": [
        "#passing two sentence at a time \n",
        "classifier([\"I'm happy about it \",\n",
        "           \"I hate this feeling\"])"
      ],
      "execution_count": 9,
      "outputs": [
        {
          "output_type": "execute_result",
          "data": {
            "text/plain": [
              "[{'label': 'POSITIVE', 'score': 0.9998759627342224},\n",
              " {'label': 'NEGATIVE', 'score': 0.999440610408783}]"
            ]
          },
          "metadata": {
            "tags": []
          },
          "execution_count": 9
        }
      ]
    },
    {
      "cell_type": "code",
      "metadata": {
        "colab": {
          "base_uri": "https://localhost:8080/"
        },
        "id": "WPtLB_rQMAaf",
        "outputId": "ce6ed25f-c696-425f-9faa-f8541012e7b3"
      },
      "source": [
        "classifier([\"It's an average movie,one time watch \", \"But it's not bad though\"])"
      ],
      "execution_count": 13,
      "outputs": [
        {
          "output_type": "execute_result",
          "data": {
            "text/plain": [
              "[{'label': 'NEGATIVE', 'score': 0.5866876840591431},\n",
              " {'label': 'POSITIVE', 'score': 0.9993414282798767}]"
            ]
          },
          "metadata": {
            "tags": []
          },
          "execution_count": 13
        }
      ]
    },
    {
      "cell_type": "code",
      "metadata": {
        "colab": {
          "base_uri": "https://localhost:8080/"
        },
        "id": "T3U55fIyRH-e",
        "outputId": "64ef2b65-6f3d-43e6-a86c-f943afc70242"
      },
      "source": [
        "# we can directly mention the model inside the classifier itself \n",
        "\n",
        "classifier([\"It's an average movie,one time watch \", \"But it's not bad though\"],model=\"nlptown/bert-base-multilingual-uncased-sentiment\")"
      ],
      "execution_count": 21,
      "outputs": [
        {
          "output_type": "execute_result",
          "data": {
            "text/plain": [
              "[{'label': 'NEGATIVE', 'score': 0.5866876840591431},\n",
              " {'label': 'POSITIVE', 'score': 0.9993414282798767}]"
            ]
          },
          "metadata": {
            "tags": []
          },
          "execution_count": 21
        }
      ]
    },
    {
      "cell_type": "markdown",
      "metadata": {
        "id": "ROaCb1enaGL6"
      },
      "source": [
        "* **Zero Shot classification**\n",
        "\n",
        "Zero shot classification used to annotate the text into different classes and it allows you to specify which labels to use for the classification "
      ]
    },
    {
      "cell_type": "code",
      "metadata": {
        "id": "tHHsHyvrT5Du"
      },
      "source": [
        "classifier = pipeline(\"zero-shot-classification\")"
      ],
      "execution_count": null,
      "outputs": []
    },
    {
      "cell_type": "code",
      "metadata": {
        "colab": {
          "base_uri": "https://localhost:8080/"
        },
        "id": "4wcULV2Ma96C",
        "outputId": "70e2f593-0886-412c-a5bb-6376d8218deb"
      },
      "source": [
        "classifier(\"This tutorial about the nlp models are really helpful for self learning and practice\",\n",
        "           candidate_labels = ['education','business','comedy'])"
      ],
      "execution_count": 35,
      "outputs": [
        {
          "output_type": "execute_result",
          "data": {
            "text/plain": [
              "{'labels': ['education', 'business', 'comedy'],\n",
              " 'scores': [0.8053352236747742, 0.13119320571422577, 0.06347152590751648],\n",
              " 'sequence': 'This tutorial about the nlp models are really helpful for self learning and practice'}"
            ]
          },
          "metadata": {
            "tags": []
          },
          "execution_count": 35
        }
      ]
    },
    {
      "cell_type": "code",
      "metadata": {
        "colab": {
          "base_uri": "https://localhost:8080/"
        },
        "id": "-fFtNpV2cCjs",
        "outputId": "4bee047f-54f0-41de-c8ad-45445ebf5f19"
      },
      "source": [
        "classifier('He was such a witty person to talk, we had a great deal that closed today from him',\n",
        "           candidate_labels = ['business',\"comedy\",\"politics\"])"
      ],
      "execution_count": 39,
      "outputs": [
        {
          "output_type": "execute_result",
          "data": {
            "text/plain": [
              "{'labels': ['business', 'comedy', 'politics'],\n",
              " 'scores': [0.5627211332321167, 0.39812958240509033, 0.039149314165115356],\n",
              " 'sequence': 'He was such a witty person to talk we had a great deal that closed today from him'}"
            ]
          },
          "metadata": {
            "tags": []
          },
          "execution_count": 39
        }
      ]
    },
    {
      "cell_type": "markdown",
      "metadata": {
        "id": "9sDuv3wAdZkm"
      },
      "source": [
        "* **Text generation**\n",
        "\n",
        "The main idea here is that you provide a prompt and the model will auto-complete it by generating the remaining text"
      ]
    },
    {
      "cell_type": "code",
      "metadata": {
        "id": "3L51dpUsceyG"
      },
      "source": [
        "generator= pipeline('text-generation')"
      ],
      "execution_count": null,
      "outputs": []
    },
    {
      "cell_type": "code",
      "metadata": {
        "colab": {
          "base_uri": "https://localhost:8080/"
        },
        "id": "HTYsUg8odorq",
        "outputId": "400156c9-ef3b-4e87-91f7-efc442024aad"
      },
      "source": [
        "generator('In this course we will learn how to')"
      ],
      "execution_count": 42,
      "outputs": [
        {
          "output_type": "stream",
          "text": [
            "Setting `pad_token_id` to `eos_token_id`:50256 for open-end generation.\n"
          ],
          "name": "stderr"
        },
        {
          "output_type": "execute_result",
          "data": {
            "text/plain": [
              "[{'generated_text': 'In this course we will learn how to create content for you, to use as your new website or blog.\\n\\n\\nWhat do I need to do to get started?\\n\\nIf you are a designer or UX engineer, a web developer or someone'}]"
            ]
          },
          "metadata": {
            "tags": []
          },
          "execution_count": 42
        }
      ]
    },
    {
      "cell_type": "code",
      "metadata": {
        "colab": {
          "base_uri": "https://localhost:8080/"
        },
        "id": "kz8isxmad8R-",
        "outputId": "43e13c05-0111-417e-8d7e-9e8e20160608"
      },
      "source": [
        "#tuning the parameters for length and sequences\n",
        "generator('Today was a better day for me because ',max_length=40,num_return_sequences=3)"
      ],
      "execution_count": 45,
      "outputs": [
        {
          "output_type": "stream",
          "text": [
            "Setting `pad_token_id` to `eos_token_id`:50256 for open-end generation.\n"
          ],
          "name": "stderr"
        },
        {
          "output_type": "execute_result",
          "data": {
            "text/plain": [
              "[{'generated_text': 'Today was a better day for me because \\xa0they have been doing so very well, and I had the chance to pick up some of the great deals on my first day. I started reading about'},\n",
              " {'generated_text': 'Today was a better day for me because \\xa0I was in love with it. \\xa0I thought when I was an adult I would know how to read and write it better and to make it'},\n",
              " {'generated_text': \"Today was a better day for me because \\xa0I got all my groceries, a great diet, and a home.\\xa0 My life wasn't perfect, but I learned a lot about myself . It\"}]"
            ]
          },
          "metadata": {
            "tags": []
          },
          "execution_count": 45
        }
      ]
    },
    {
      "cell_type": "code",
      "metadata": {
        "colab": {
          "base_uri": "https://localhost:8080/"
        },
        "id": "x1SsLDnoeHe8",
        "outputId": "231a22f8-667d-412a-b37e-b64e095109f5"
      },
      "source": [
        "#adding perticular model from the hub for text generation \n",
        "\n",
        "generator('text-generation',model = \"distilgpt2\")\n",
        "generator(\"we can sit here tonight because\",num_return_sequences=2,max_length=20)"
      ],
      "execution_count": 50,
      "outputs": [
        {
          "output_type": "stream",
          "text": [
            "Setting `pad_token_id` to `eos_token_id`:50256 for open-end generation.\n",
            "Setting `pad_token_id` to `eos_token_id`:50256 for open-end generation.\n"
          ],
          "name": "stderr"
        },
        {
          "output_type": "execute_result",
          "data": {
            "text/plain": [
              "[{'generated_text': 'we can sit here tonight because the day is ready.\"\\n\\nLiz Pohl, President and'},\n",
              " {'generated_text': \"we can sit here tonight because this isn't about us. We want to continue to make sure that\"}]"
            ]
          },
          "metadata": {
            "tags": []
          },
          "execution_count": 50
        }
      ]
    },
    {
      "cell_type": "markdown",
      "metadata": {
        "id": "Xun5HmN1gDcc"
      },
      "source": [
        "* **Named entity recognition**\n",
        "\n",
        "Named entity recognition (NER) is a task where the model has to find which parts of the input text correspond to entities such as persons, locations, or organizations"
      ]
    },
    {
      "cell_type": "code",
      "metadata": {
        "id": "OVcVg0vNfIV9"
      },
      "source": [
        "ner = pipeline(\"ner\", grouped_entities=True)"
      ],
      "execution_count": null,
      "outputs": []
    },
    {
      "cell_type": "code",
      "metadata": {
        "colab": {
          "base_uri": "https://localhost:8080/"
        },
        "id": "mzwjanlCgRLk",
        "outputId": "3152b8ed-cb12-4072-b3bf-b58bc5497db9"
      },
      "source": [
        "ner(\"My Name is Sundar Pichai and I'm the CEO of Alphabet at California\")"
      ],
      "execution_count": 54,
      "outputs": [
        {
          "output_type": "execute_result",
          "data": {
            "text/plain": [
              "[{'end': 24,\n",
              "  'entity_group': 'PER',\n",
              "  'score': 0.95563614,\n",
              "  'start': 11,\n",
              "  'word': 'Sundar pichai'},\n",
              " {'end': 52,\n",
              "  'entity_group': 'ORG',\n",
              "  'score': 0.9937219,\n",
              "  'start': 44,\n",
              "  'word': 'Alphabet'},\n",
              " {'end': 66,\n",
              "  'entity_group': 'LOC',\n",
              "  'score': 0.51094395,\n",
              "  'start': 56,\n",
              "  'word': 'California'}]"
            ]
          },
          "metadata": {
            "tags": []
          },
          "execution_count": 54
        }
      ]
    },
    {
      "cell_type": "markdown",
      "metadata": {
        "id": "Vd9gV1o2hKaD"
      },
      "source": [
        "* **Question answering**\n",
        "\n",
        "Used to fetch aswers from the given context"
      ]
    },
    {
      "cell_type": "code",
      "metadata": {
        "id": "s9-Q4MWQglXF"
      },
      "source": [
        "Question_answer = pipeline(\"question-answering\")"
      ],
      "execution_count": null,
      "outputs": []
    },
    {
      "cell_type": "code",
      "metadata": {
        "colab": {
          "base_uri": "https://localhost:8080/"
        },
        "id": "XVhvZKrJhfnN",
        "outputId": "3d9a1caf-64a9-45f4-c455-847793ba8efe"
      },
      "source": [
        "Question_answer(question = \"where do Sundar work\",\n",
        "context = \"My Name is Sundar Pichai and I'm the CEO of Alphabet at California\")"
      ],
      "execution_count": 58,
      "outputs": [
        {
          "output_type": "execute_result",
          "data": {
            "text/plain": [
              "{'answer': 'California', 'end': 66, 'score': 0.910706639289856, 'start': 56}"
            ]
          },
          "metadata": {
            "tags": []
          },
          "execution_count": 58
        }
      ]
    },
    {
      "cell_type": "code",
      "metadata": {
        "colab": {
          "base_uri": "https://localhost:8080/"
        },
        "id": "e_-8OePeiGex",
        "outputId": "a2338ae6-4d1d-465f-eb0a-674cf3f55437"
      },
      "source": [
        "Question_answer(question = [\"Which company I'am working\",\"What is my Job\"],\n",
        "context = \"My Name is Sundar Pichai and I'm the CEO of Alphabet at California\")"
      ],
      "execution_count": 64,
      "outputs": [
        {
          "output_type": "execute_result",
          "data": {
            "text/plain": [
              "[{'answer': 'Alphabet', 'end': 52, 'score': 0.9826475977897644, 'start': 44},\n",
              " {'answer': 'CEO of Alphabet',\n",
              "  'end': 52,\n",
              "  'score': 0.11989560723304749,\n",
              "  'start': 37}]"
            ]
          },
          "metadata": {
            "tags": []
          },
          "execution_count": 64
        }
      ]
    },
    {
      "cell_type": "code",
      "metadata": {
        "id": "zgikgGygiico"
      },
      "source": [
        "context= '''Simba is the protagonist of Disney's The Lion King franchise. Introduced in the 1994 film The Lion King, \n",
        "Walt Disney Animation's 32nd animated feature, the character subsequently appears in The Lion King'''\n",
        "\n",
        "Question = ['Who is Simba','When Simba came',\"Which movie have Simba character\"]"
      ],
      "execution_count": 68,
      "outputs": []
    },
    {
      "cell_type": "code",
      "metadata": {
        "colab": {
          "base_uri": "https://localhost:8080/"
        },
        "id": "KHAsyIMXk3Qo",
        "outputId": "ff8ccc56-15d5-42fa-bac8-608cce965d82"
      },
      "source": [
        "Question_answer(question =Question,context = context)"
      ],
      "execution_count": 69,
      "outputs": [
        {
          "output_type": "execute_result",
          "data": {
            "text/plain": [
              "[{'answer': \"the protagonist of Disney's The Lion King\",\n",
              "  'end': 50,\n",
              "  'score': 0.18819037079811096,\n",
              "  'start': 9},\n",
              " {'answer': '1994', 'end': 84, 'score': 0.9721288084983826, 'start': 80},\n",
              " {'answer': 'The Lion King',\n",
              "  'end': 50,\n",
              "  'score': 0.42562785744667053,\n",
              "  'start': 37}]"
            ]
          },
          "metadata": {
            "tags": []
          },
          "execution_count": 69
        }
      ]
    },
    {
      "cell_type": "code",
      "metadata": {
        "id": "vIYvq5FxlDj5"
      },
      "source": [
        ""
      ],
      "execution_count": null,
      "outputs": []
    }
  ]
}